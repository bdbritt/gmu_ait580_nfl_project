{
 "cells": [
  {
   "cell_type": "code",
   "execution_count": 1,
   "id": "3bd64a5d",
   "metadata": {
    "ExecuteTime": {
     "end_time": "2021-10-10T22:24:54.466032Z",
     "start_time": "2021-10-10T22:24:30.935988Z"
    }
   },
   "outputs": [
    {
     "data": {
      "text/html": [
       "<div style=\"font-family:monospace;background:#e6fee6;color:black\"><pre>Packages already installed: ipywidgets</pre></div>"
      ],
      "text/plain": [
       "<IPython.core.display.HTML object>"
      ]
     },
     "metadata": {},
     "output_type": "display_data"
    },
    {
     "data": {
      "text/html": [
       "<div style=\"font-family:monospace;background:#eee;color:black\"><pre>Running pip to install bs4, imblearn, matplotlib, pandas, pandas-profiling, pca, plot-metric, sklearn</pre></div>"
      ],
      "text/plain": [
       "<IPython.core.display.HTML object>"
      ]
     },
     "metadata": {},
     "output_type": "display_data"
    },
    {
     "data": {
      "text/html": [
       "<div style=\"font-family:monospace;background:#e6fee6;color:black\"><pre>New packages installed: beautifulsoup4, bs4, colorlover, colourmap, cycler, htmlmin, imagehash, imbalanced-learn, imblearn, joblib, kiwisolver, matplotlib, missingno, multimethod, networkx, numpy, pandas, pandas-profiling, pca, phik, pillow, plot-metric, pydantic, pywavelets, scikit-learn, scipy, seaborn, sklearn, soupsieve, tangled-up-in-unicode, threadpoolctl, typing-extensions, visions, wget</pre></div>"
      ],
      "text/plain": [
       "<IPython.core.display.HTML object>"
      ]
     },
     "metadata": {},
     "output_type": "display_data"
    },
    {
     "data": {
      "text/html": [
       "<div style=\"font-family:monospace;background:#eee;color:black\"><pre>Done</pre></div>"
      ],
      "text/plain": [
       "<IPython.core.display.HTML object>"
      ]
     },
     "metadata": {},
     "output_type": "display_data"
    }
   ],
   "source": [
    "import ipydeps\n",
    "ipydeps.pip(['bs4', 'pandas','sklearn', 'pca', 'matplotlib', 'imblearn', 'plot_metric', 'pandas-profiling', 'ipywidgets'])"
   ]
  },
  {
   "cell_type": "code",
   "execution_count": 2,
   "id": "db004b0e",
   "metadata": {
    "ExecuteTime": {
     "end_time": "2021-10-10T22:25:15.947308Z",
     "start_time": "2021-10-10T22:25:14.734921Z"
    }
   },
   "outputs": [],
   "source": [
    "import ipywidgets as widgets\n",
    "import matplotlib.pyplot as plt\n",
    "import numpy as np\n",
    "import pandas as pd\n",
    "import pickle\n",
    "import requests\n",
    "\n",
    "from bs4 import BeautifulSoup\n",
    "from collections import Counter\n",
    "from imblearn.over_sampling import SMOTE, RandomOverSampler\n",
    "from imblearn.under_sampling import RandomUnderSampler\n",
    "from IPython.display import display\n",
    "from IPython.core.display import HTML\n",
    "from ipywidgets import Layout\n",
    "from pandas_profiling import ProfileReport\n",
    "from pandas.plotting import scatter_matrix\n",
    "from pca import pca\n",
    "from urllib.request import urlopen\n",
    "from sklearn.ensemble import RandomForestClassifier\n",
    "from sklearn.linear_model import LogisticRegression\n",
    "from sklearn.metrics import accuracy_score, classification_report, confusion_matrix, ConfusionMatrixDisplay, roc_auc_score, roc_curve\n",
    "from sklearn.model_selection import cross_val_score\n",
    "from sklearn.model_selection import GridSearchCV\n",
    "from sklearn.model_selection import RepeatedStratifiedKFold\n",
    "from sklearn import preprocessing\n",
    "from sklearn.decomposition import PCA\n",
    "from sklearn.model_selection import train_test_split"
   ]
  },
  {
   "cell_type": "code",
   "execution_count": 3,
   "id": "9d974b5a",
   "metadata": {
    "ExecuteTime": {
     "end_time": "2021-10-10T22:25:18.311382Z",
     "start_time": "2021-10-10T22:25:18.307242Z"
    }
   },
   "outputs": [],
   "source": [
    "%matplotlib inline"
   ]
  },
  {
   "cell_type": "code",
   "execution_count": 4,
   "id": "6d192b83",
   "metadata": {
    "ExecuteTime": {
     "end_time": "2021-10-09T19:02:11.353295Z",
     "start_time": "2021-10-09T19:02:11.350617Z"
    }
   },
   "outputs": [],
   "source": [
    "import warnings\n",
    "warnings.filterwarnings(action='once')"
   ]
  },
  {
   "cell_type": "markdown",
   "id": "fec739f4",
   "metadata": {},
   "source": [
    "# Main functions"
   ]
  },
  {
   "cell_type": "code",
   "execution_count": 59,
   "id": "2a5569e1",
   "metadata": {
    "ExecuteTime": {
     "end_time": "2021-10-10T22:41:04.416474Z",
     "start_time": "2021-10-10T22:41:04.404125Z"
    }
   },
   "outputs": [],
   "source": [
    "def get_class_scatter(classes: dict, title='Data'):\n",
    "    plt.figure(figsize=(8, 8), dpi=80)\n",
    "    for label, _ in classes.items():\n",
    "        row_ix = np.where(y == label)[0]\n",
    "        plt.scatter(X[row_ix, 0], X[row_ix, 1], label=str(label))\n",
    "    plt.title(f'{title}')\n",
    "    plt.legend()\n",
    "    plt.show()\n",
    "\n",
    "    \n",
    "def get_confusion_matrix(model, y_test):\n",
    "    \n",
    "    y_pred = model.predict(X_test)\n",
    "    cm = confusion_matrix(y_test, y_pred, labels=model.classes_)\n",
    "    disp = ConfusionMatrixDisplay(confusion_matrix=cm, display_labels=logreg.classes_)\n",
    "    \n",
    "    disp.plot(cmap='Blues')\n",
    "    plt.show()\n",
    "\n",
    "\n",
    "def get_roc_graph(model, X_test, y_test, title='model'):\n",
    "    \n",
    "    model_roc_auc = roc_auc_score(y_test, model.predict(X_test))\n",
    "    fpr, tpr, thresholds = roc_curve(y_test, model.predict_proba(X_test)[:,1])\n",
    "    plt.figure()\n",
    "    plt.plot(fpr, tpr, label=model_roc_auc)\n",
    "    plt.plot([0, 1], [0, 1],'r--')\n",
    "    plt.xlim([-0.05, 1.05])\n",
    "    plt.ylim([-0.05, 1.05])\n",
    "    plt.xlabel('False Positive Rate')\n",
    "    plt.ylabel('True Positive Rate')\n",
    "    plt.title(f'{title} Receiver operating characteristic')\n",
    "    plt.legend(loc=\"lower right\")\n",
    "    plt.savefig(f'{title} ROC')\n",
    "    plt.show()\n",
    "\n",
    "\n",
    "def get_nfl_team_data(teams: dict, time_period: list) -> list:\n",
    "    # send requests to get data\n",
    "    data_list = []\n",
    "    index_cntr = 0\n",
    "    for team in teams:\n",
    "        for year in time_period:\n",
    "            url = f'https://sports.core.api.espn.com/v2/sports/football/leagues/nfl/seasons/{year}/types/2/teams/{team[\"team_number\"]}/statistics'\n",
    "            try:\n",
    "                r_data = requests.get(url).json()['splits']['categories']\n",
    "\n",
    "                result ={'team': team['team_name']}\n",
    "                stat_list = []\n",
    "                for rec in r_data:\n",
    "                    stats_data = rec['stats']\n",
    "                    field_names, field_values = [] , []\n",
    "                    for stats_rec in stats_data:\n",
    "                        if stats_rec['name'].startswith(('passing','rushing', 'total')):\n",
    "                            if 'totalGiveaways' not in stats_rec['name'] or 'totalTakeaways' not in stats_rec['name']:\n",
    "                                stat_values = (stats_rec['name'], stats_rec['value'])\n",
    "                                stat_list.append(stat_values)\n",
    "\n",
    "                # convert to dataframe to get all values\n",
    "                df = pd.DataFrame(stat_list)\n",
    "\n",
    "                # transpose to get field values as columns\n",
    "                df = df.T\n",
    "                headers = df.iloc[0]\n",
    "                new_df  = pd.DataFrame(df.values[1:], columns=headers)\n",
    "                new_df = new_df.reset_index(drop=True)\n",
    "\n",
    "                # add team/year information\n",
    "                new_df['team_number'] = team['team_number']\n",
    "                new_df['team'] = team['team_name']\n",
    "                new_df['year'] = year\n",
    "                new_df['record_id'] = index_cntr\n",
    "                new_df = new_df.set_index('record_id')\n",
    "\n",
    "                # convert to dict\n",
    "                data_dict = new_df.to_dict(orient='records')\n",
    "                data_list.append(data_dict)\n",
    "                index_cntr += 1\n",
    "\n",
    "            except KeyError as err:\n",
    "                print(f'error with team: {team}, year: {year}')\n",
    "                # error will happen if data \n",
    "                # does not exist for a teams year\n",
    "                # skip past it for now\n",
    "                continue\n",
    "                \n",
    "    return data_list\n",
    "\n",
    "\n",
    "def test_past_data(model, data, year='1996'):\n",
    "    data = data.copy()\n",
    "    \n",
    "    data_year = data.loc[data['year']==year].copy()\n",
    "    data_year = data_year.fillna(0)\n",
    "    \n",
    "    data_year.loc[:,'prediction'] = model.predict_proba(data_year.iloc[:,0:12].values)[:, 1]\n",
    "    data_year = data_year[['team','year','prediction']]\n",
    "    \n",
    "    return  data_year.sort_values(by=['prediction'], ascending=False)\n",
    "\n",
    "\n",
    "def save_model(model, name='model'):\n",
    "    \n",
    "    filename = f'{name}_model.sav'\n",
    "    with open(filename, 'wb') as file:\n",
    "        pickle.dump(model, file)\n",
    "    print(f'{name} model saved')"
   ]
  },
  {
   "cell_type": "markdown",
   "id": "646a1565",
   "metadata": {},
   "source": [
    "# Get data"
   ]
  },
  {
   "cell_type": "markdown",
   "id": "bce6cf52",
   "metadata": {},
   "source": [
    "## Get files"
   ]
  },
  {
   "cell_type": "code",
   "execution_count": 7,
   "id": "8552f8b4",
   "metadata": {
    "ExecuteTime": {
     "end_time": "2021-10-10T22:26:21.125053Z",
     "start_time": "2021-10-10T22:26:21.117799Z"
    }
   },
   "outputs": [
    {
     "name": "stdout",
     "output_type": "stream",
     "text": [
      "superbowl record count: 21\n",
      "teams count: 32\n"
     ]
    }
   ],
   "source": [
    "superbowl_data = pd.read_csv('superbowl_data.csv')\n",
    "teams = pd.read_csv('teams.csv')\n",
    "\n",
    "print(f'superbowl record count: {superbowl_data.shape[0]}')\n",
    "print(f'teams count: {teams.shape[0]}')"
   ]
  },
  {
   "cell_type": "markdown",
   "id": "f666388f",
   "metadata": {},
   "source": [
    "## Get season stats"
   ]
  },
  {
   "cell_type": "code",
   "execution_count": 8,
   "id": "9e393ad4",
   "metadata": {
    "ExecuteTime": {
     "end_time": "2021-10-10T22:26:23.882186Z",
     "start_time": "2021-10-10T22:26:23.878274Z"
    }
   },
   "outputs": [],
   "source": [
    "# convert teams df to dict for request\n",
    "teams_dict = teams.to_dict('records')\n",
    "\n",
    "# time period used to get\n",
    "# team stats\n",
    "time_period = list(pd.date_range(start='1996', end='2021', freq=pd.DateOffset(years=1)).strftime('%Y'))"
   ]
  },
  {
   "cell_type": "code",
   "execution_count": 31,
   "id": "d23d60d1",
   "metadata": {
    "ExecuteTime": {
     "end_time": "2021-10-10T22:37:41.984465Z",
     "start_time": "2021-10-10T22:33:32.807587Z"
    }
   },
   "outputs": [
    {
     "name": "stderr",
     "output_type": "stream",
     "text": [
      "/tmp/ipykernel_38/492488023.py:77: UserWarning: DataFrame columns are not unique, some columns will be omitted.\n",
      "  data_dict = new_df.to_dict(orient='records')\n"
     ]
    },
    {
     "name": "stdout",
     "output_type": "stream",
     "text": [
      "error with team: {'team_name': 'CLE', 'team_number': 5}, year: 1996\n",
      "error with team: {'team_name': 'CLE', 'team_number': 5}, year: 1997\n",
      "error with team: {'team_name': 'CLE', 'team_number': 5}, year: 1998\n",
      "error with team: {'team_name': 'HOU', 'team_number': 34}, year: 1996\n",
      "error with team: {'team_name': 'HOU', 'team_number': 34}, year: 1997\n",
      "error with team: {'team_name': 'HOU', 'team_number': 34}, year: 1998\n",
      "error with team: {'team_name': 'HOU', 'team_number': 34}, year: 1999\n",
      "error with team: {'team_name': 'HOU', 'team_number': 34}, year: 2000\n",
      "error with team: {'team_name': 'HOU', 'team_number': 34}, year: 2001\n"
     ]
    },
    {
     "data": {
      "text/plain": [
       "(823, 36)"
      ]
     },
     "execution_count": 31,
     "metadata": {},
     "output_type": "execute_result"
    }
   ],
   "source": [
    "# get data\n",
    "data = get_nfl_team_data(teams_dict, time_period)\n",
    "\n",
    "# convert data into one df\n",
    "stats_df = pd.concat([pd.DataFrame(rec) for rec in data]).reset_index(drop=True)\n",
    "stats_df.shape"
   ]
  },
  {
   "cell_type": "code",
   "execution_count": 32,
   "id": "c5f2d345",
   "metadata": {
    "ExecuteTime": {
     "end_time": "2021-10-10T22:37:42.827290Z",
     "start_time": "2021-10-10T22:37:41.985655Z"
    }
   },
   "outputs": [
    {
     "data": {
      "text/plain": [
       "(823, 36)"
      ]
     },
     "execution_count": 32,
     "metadata": {},
     "output_type": "execute_result"
    }
   ],
   "source": [
    "# convert data into one df\n",
    "stats_df = pd.concat([pd.DataFrame(rec) for rec in data]).reset_index(drop=True)\n",
    "stats_df.shape"
   ]
  },
  {
   "cell_type": "code",
   "execution_count": null,
   "id": "43d1d33a",
   "metadata": {
    "ExecuteTime": {
     "end_time": "2021-10-09T01:54:56.427451Z",
     "start_time": "2021-10-09T01:54:56.424800Z"
    }
   },
   "outputs": [],
   "source": [
    "# back up data pull\n",
    "# run if needed\n",
    "# stats_df.to_csv('stats_data.csv', index=False)"
   ]
  },
  {
   "cell_type": "markdown",
   "id": "98927586",
   "metadata": {},
   "source": [
    "# Data wrangle"
   ]
  },
  {
   "cell_type": "markdown",
   "id": "11de60b6",
   "metadata": {},
   "source": [
    "## prep superbowl data"
   ]
  },
  {
   "cell_type": "code",
   "execution_count": 33,
   "id": "358a7408",
   "metadata": {
    "ExecuteTime": {
     "end_time": "2021-10-10T22:38:13.950862Z",
     "start_time": "2021-10-10T22:38:13.938676Z"
    }
   },
   "outputs": [],
   "source": [
    "# change roman numbers to numbers\n",
    "superbowl_data.SB = [each[-3:-1:1] if len(each)>=3 else each for each in superbowl_data.SB]\n",
    "superbowl_data.SB = [each[1:] if each[0]==\"(\" else each for each in superbowl_data.SB]\n",
    "# add year\n",
    "superbowl_data['year'] = superbowl_data.apply(lambda x:pd.to_datetime(x['Date']).strftime('%Y'), axis=1)\n",
    "superbowl_subset = superbowl_data[['Winner Abv', 'year']].copy()\n",
    "superbowl_subset['superbowl_win'] = 1\n",
    "superbowl_subset['season_year'] = superbowl_subset.apply(lambda x: str(int(x['year']) - 1), axis=1)\n",
    "superbowl_subset.drop('year', axis=1, inplace=True)\n",
    "superbowl_subset = superbowl_subset.rename(columns={'season_year': 'year', 'Winner Abv':'team'})\n",
    "superbowl_subset.columns = superbowl_subset.columns.str.strip()"
   ]
  },
  {
   "cell_type": "markdown",
   "id": "ff1bfa6a",
   "metadata": {},
   "source": [
    "## Separate the data for testing later"
   ]
  },
  {
   "cell_type": "code",
   "execution_count": 34,
   "id": "4b3a451a",
   "metadata": {
    "ExecuteTime": {
     "end_time": "2021-10-10T22:38:15.353458Z",
     "start_time": "2021-10-10T22:38:15.347374Z"
    }
   },
   "outputs": [
    {
     "data": {
      "text/plain": [
       "(670, 36)"
      ]
     },
     "execution_count": 34,
     "metadata": {},
     "output_type": "execute_result"
    }
   ],
   "source": [
    "# going to use for testing later\n",
    "testing_years = ['1996', '1997', '1998', '1999', '2021']\n",
    "testing_df = stats_df.loc[stats_df['year'].isin(testing_years)].copy()\n",
    "\n",
    "# use to explore and build the model\n",
    "stats_df = stats_df.loc[~stats_df['year'].isin(testing_years)].copy()\n",
    "stats_df.shape"
   ]
  },
  {
   "cell_type": "markdown",
   "id": "29800655",
   "metadata": {},
   "source": [
    "## Merge, prep stats data"
   ]
  },
  {
   "cell_type": "code",
   "execution_count": 35,
   "id": "7efb4d64",
   "metadata": {
    "ExecuteTime": {
     "end_time": "2021-10-10T22:38:18.159638Z",
     "start_time": "2021-10-10T22:38:18.152798Z"
    }
   },
   "outputs": [],
   "source": [
    "# combine into one df\n",
    "stats_updated = pd.merge(stats_df, superbowl_subset, how=\"left\", left_on=['team', 'year'], right_on=['team', 'year'])\n",
    "\n",
    "# update NaN\n",
    "stats_updated = stats_updated.fillna({'superbowl_win':0})\n",
    "\n",
    "# drop not needed columns\n",
    "stats_updated.drop(['totalGiveaways', 'totalTakeaways', 'totalDrives', 'totalYardsFromScrimmage', 'team_number'], axis=1, inplace=True)"
   ]
  },
  {
   "cell_type": "code",
   "execution_count": 36,
   "id": "1141a54c",
   "metadata": {
    "ExecuteTime": {
     "end_time": "2021-10-10T22:38:19.910795Z",
     "start_time": "2021-10-10T22:38:19.893679Z"
    }
   },
   "outputs": [
    {
     "data": {
      "text/html": [
       "<div>\n",
       "<style scoped>\n",
       "    .dataframe tbody tr th:only-of-type {\n",
       "        vertical-align: middle;\n",
       "    }\n",
       "\n",
       "    .dataframe tbody tr th {\n",
       "        vertical-align: top;\n",
       "    }\n",
       "\n",
       "    .dataframe thead th {\n",
       "        text-align: right;\n",
       "    }\n",
       "</style>\n",
       "<table border=\"1\" class=\"dataframe\">\n",
       "  <thead>\n",
       "    <tr style=\"text-align: right;\">\n",
       "      <th></th>\n",
       "      <th>passingAttempts</th>\n",
       "      <th>passingBigPlays</th>\n",
       "      <th>passingFirstDowns</th>\n",
       "      <th>passingFumbles</th>\n",
       "      <th>passingFumblesLost</th>\n",
       "      <th>passingTouchdownPct</th>\n",
       "      <th>passingTouchdowns</th>\n",
       "      <th>passingYards</th>\n",
       "      <th>passingYardsAfterCatch</th>\n",
       "      <th>passingYardsAtCatch</th>\n",
       "      <th>...</th>\n",
       "      <th>rushingYards</th>\n",
       "      <th>rushingYardsPerGame</th>\n",
       "      <th>totalTackles</th>\n",
       "      <th>totalKickingPoints</th>\n",
       "      <th>totalTwoPointConvs</th>\n",
       "      <th>totalPenalties</th>\n",
       "      <th>totalPenaltyYards</th>\n",
       "      <th>team</th>\n",
       "      <th>year</th>\n",
       "      <th>superbowl_win</th>\n",
       "    </tr>\n",
       "  </thead>\n",
       "  <tbody>\n",
       "    <tr>\n",
       "      <th>0</th>\n",
       "      <td>514.0</td>\n",
       "      <td>32.0</td>\n",
       "      <td>156.0</td>\n",
       "      <td>8.0</td>\n",
       "      <td>3.0</td>\n",
       "      <td>2.724</td>\n",
       "      <td>14.0</td>\n",
       "      <td>3166.0</td>\n",
       "      <td>0.0</td>\n",
       "      <td>3166.0</td>\n",
       "      <td>...</td>\n",
       "      <td>1214.0</td>\n",
       "      <td>75.875</td>\n",
       "      <td>710.0</td>\n",
       "      <td>98.0</td>\n",
       "      <td>1.0</td>\n",
       "      <td>97.0</td>\n",
       "      <td>720.0</td>\n",
       "      <td>ATL</td>\n",
       "      <td>2000</td>\n",
       "      <td>0.0</td>\n",
       "    </tr>\n",
       "    <tr>\n",
       "      <th>1</th>\n",
       "      <td>485.0</td>\n",
       "      <td>46.0</td>\n",
       "      <td>165.0</td>\n",
       "      <td>11.0</td>\n",
       "      <td>6.0</td>\n",
       "      <td>3.918</td>\n",
       "      <td>19.0</td>\n",
       "      <td>3695.0</td>\n",
       "      <td>0.0</td>\n",
       "      <td>3695.0</td>\n",
       "      <td>...</td>\n",
       "      <td>1762.0</td>\n",
       "      <td>110.125</td>\n",
       "      <td>976.0</td>\n",
       "      <td>115.0</td>\n",
       "      <td>1.0</td>\n",
       "      <td>90.0</td>\n",
       "      <td>754.0</td>\n",
       "      <td>ATL</td>\n",
       "      <td>2001</td>\n",
       "      <td>0.0</td>\n",
       "    </tr>\n",
       "    <tr>\n",
       "      <th>2</th>\n",
       "      <td>479.0</td>\n",
       "      <td>48.0</td>\n",
       "      <td>163.0</td>\n",
       "      <td>6.0</td>\n",
       "      <td>2.0</td>\n",
       "      <td>3.758</td>\n",
       "      <td>18.0</td>\n",
       "      <td>3384.0</td>\n",
       "      <td>0.0</td>\n",
       "      <td>3384.0</td>\n",
       "      <td>...</td>\n",
       "      <td>2368.0</td>\n",
       "      <td>148.000</td>\n",
       "      <td>994.0</td>\n",
       "      <td>138.0</td>\n",
       "      <td>0.0</td>\n",
       "      <td>105.0</td>\n",
       "      <td>931.0</td>\n",
       "      <td>ATL</td>\n",
       "      <td>2002</td>\n",
       "      <td>0.0</td>\n",
       "    </tr>\n",
       "    <tr>\n",
       "      <th>3</th>\n",
       "      <td>460.0</td>\n",
       "      <td>31.0</td>\n",
       "      <td>127.0</td>\n",
       "      <td>6.0</td>\n",
       "      <td>1.0</td>\n",
       "      <td>3.043</td>\n",
       "      <td>14.0</td>\n",
       "      <td>2631.0</td>\n",
       "      <td>0.0</td>\n",
       "      <td>2631.0</td>\n",
       "      <td>...</td>\n",
       "      <td>1949.0</td>\n",
       "      <td>121.813</td>\n",
       "      <td>1057.0</td>\n",
       "      <td>89.0</td>\n",
       "      <td>0.0</td>\n",
       "      <td>90.0</td>\n",
       "      <td>790.0</td>\n",
       "      <td>ATL</td>\n",
       "      <td>2003</td>\n",
       "      <td>0.0</td>\n",
       "    </tr>\n",
       "    <tr>\n",
       "      <th>4</th>\n",
       "      <td>395.0</td>\n",
       "      <td>39.0</td>\n",
       "      <td>120.0</td>\n",
       "      <td>14.0</td>\n",
       "      <td>7.0</td>\n",
       "      <td>3.797</td>\n",
       "      <td>15.0</td>\n",
       "      <td>2692.0</td>\n",
       "      <td>0.0</td>\n",
       "      <td>2692.0</td>\n",
       "      <td>...</td>\n",
       "      <td>2672.0</td>\n",
       "      <td>167.000</td>\n",
       "      <td>999.0</td>\n",
       "      <td>94.0</td>\n",
       "      <td>0.0</td>\n",
       "      <td>109.0</td>\n",
       "      <td>905.0</td>\n",
       "      <td>ATL</td>\n",
       "      <td>2004</td>\n",
       "      <td>0.0</td>\n",
       "    </tr>\n",
       "  </tbody>\n",
       "</table>\n",
       "<p>5 rows × 32 columns</p>\n",
       "</div>"
      ],
      "text/plain": [
       "   passingAttempts  passingBigPlays  passingFirstDowns  passingFumbles  \\\n",
       "0            514.0             32.0              156.0             8.0   \n",
       "1            485.0             46.0              165.0            11.0   \n",
       "2            479.0             48.0              163.0             6.0   \n",
       "3            460.0             31.0              127.0             6.0   \n",
       "4            395.0             39.0              120.0            14.0   \n",
       "\n",
       "   passingFumblesLost  passingTouchdownPct  passingTouchdowns  passingYards  \\\n",
       "0                 3.0                2.724               14.0        3166.0   \n",
       "1                 6.0                3.918               19.0        3695.0   \n",
       "2                 2.0                3.758               18.0        3384.0   \n",
       "3                 1.0                3.043               14.0        2631.0   \n",
       "4                 7.0                3.797               15.0        2692.0   \n",
       "\n",
       "   passingYardsAfterCatch  passingYardsAtCatch  ...  rushingYards  \\\n",
       "0                     0.0               3166.0  ...        1214.0   \n",
       "1                     0.0               3695.0  ...        1762.0   \n",
       "2                     0.0               3384.0  ...        2368.0   \n",
       "3                     0.0               2631.0  ...        1949.0   \n",
       "4                     0.0               2692.0  ...        2672.0   \n",
       "\n",
       "   rushingYardsPerGame  totalTackles  totalKickingPoints  totalTwoPointConvs  \\\n",
       "0               75.875         710.0                98.0                 1.0   \n",
       "1              110.125         976.0               115.0                 1.0   \n",
       "2              148.000         994.0               138.0                 0.0   \n",
       "3              121.813        1057.0                89.0                 0.0   \n",
       "4              167.000         999.0                94.0                 0.0   \n",
       "\n",
       "   totalPenalties  totalPenaltyYards  team  year  superbowl_win  \n",
       "0            97.0              720.0   ATL  2000            0.0  \n",
       "1            90.0              754.0   ATL  2001            0.0  \n",
       "2           105.0              931.0   ATL  2002            0.0  \n",
       "3            90.0              790.0   ATL  2003            0.0  \n",
       "4           109.0              905.0   ATL  2004            0.0  \n",
       "\n",
       "[5 rows x 32 columns]"
      ]
     },
     "execution_count": 36,
     "metadata": {},
     "output_type": "execute_result"
    }
   ],
   "source": [
    "stats_updated.head()"
   ]
  },
  {
   "cell_type": "markdown",
   "id": "4f86356f",
   "metadata": {},
   "source": [
    "## PCA dimension reduction"
   ]
  },
  {
   "cell_type": "markdown",
   "id": "5bb47d80",
   "metadata": {},
   "source": [
    "### Perform dimension reduction.\n",
    "This process will also help to choose the number of principal components based on 95% data vairance"
   ]
  },
  {
   "cell_type": "code",
   "execution_count": 37,
   "id": "51b3f069",
   "metadata": {
    "ExecuteTime": {
     "end_time": "2021-10-10T22:38:25.117497Z",
     "start_time": "2021-10-10T22:38:25.112424Z"
    }
   },
   "outputs": [],
   "source": [
    "# create df with wanted features\n",
    "# scale data as well\n",
    "data_scaled = pd.DataFrame(preprocessing.scale(stats_updated.iloc[:, 0:28]),columns = stats_updated.columns[0:28])"
   ]
  },
  {
   "cell_type": "code",
   "execution_count": 38,
   "id": "650b39f4",
   "metadata": {
    "ExecuteTime": {
     "end_time": "2021-10-10T22:38:26.487497Z",
     "start_time": "2021-10-10T22:38:25.924869Z"
    }
   },
   "outputs": [
    {
     "name": "stdout",
     "output_type": "stream",
     "text": [
      "[pca] >Processing dataframe..\n",
      "[pca] >The PCA reduction is performed to capture [95.0%] explained variance using the [28] columns of the input data.\n",
      "[pca] >Fitting using PCA..\n",
      "[pca] >Computing loadings and PCs..\n",
      "[pca] >Computing explained variance..\n",
      "[pca] >Number of components is [13] that covers the [95.00%] explained variance.\n",
      "[pca] >Outlier detection using Hotelling T2 test with alpha=[0.05] and n_components=[13]\n",
      "[pca] >Outlier detection using SPE/DmodX with n_std=[2]\n"
     ]
    },
    {
     "data": {
      "image/png": "[encoded data removed]",
      "text/plain": [
       "<Figure size 864x864 with 1 Axes>"
      ]
     },
     "metadata": {
      "needs_background": "light"
     },
     "output_type": "display_data"
    },
    {
     "data": {
      "text/plain": [
       "(<Figure size 864x864 with 1 Axes>,\n",
       " <AxesSubplot:title={'center':'Cumulative explained variance\\n 13 Principal Components explain [95.0%] of the variance.'}, xlabel='Principle Component', ylabel='Percentage explained variance'>)"
      ]
     },
     "execution_count": 38,
     "metadata": {},
     "output_type": "execute_result"
    },
    {
     "data": {
      "text/plain": [
       "<Figure size 432x288 with 0 Axes>"
      ]
     },
     "metadata": {},
     "output_type": "display_data"
    }
   ],
   "source": [
    "# initialize\n",
    "pca_model = pca(random_state=42)\n",
    "\n",
    "# Fit transform\n",
    "results = pca_model.fit_transform(data_scaled)\n",
    "\n",
    "# visualize\n",
    "pca_model.plot(figsize=(12, 12))"
   ]
  },
  {
   "cell_type": "markdown",
   "id": "38ed12c6",
   "metadata": {
    "ExecuteTime": {
     "end_time": "2021-10-06T17:04:01.240706Z",
     "start_time": "2021-10-06T17:04:01.237847Z"
    }
   },
   "source": [
    "Based upon the visual inspection, 13 features will get us around 95% variance. This would reduce our total features from 28 -> 13 or 53%."
   ]
  },
  {
   "cell_type": "code",
   "execution_count": 39,
   "id": "6c46fb06",
   "metadata": {
    "ExecuteTime": {
     "end_time": "2021-10-10T22:38:30.064816Z",
     "start_time": "2021-10-10T22:38:30.053457Z"
    }
   },
   "outputs": [
    {
     "data": {
      "text/html": [
       "<div>\n",
       "<style scoped>\n",
       "    .dataframe tbody tr th:only-of-type {\n",
       "        vertical-align: middle;\n",
       "    }\n",
       "\n",
       "    .dataframe tbody tr th {\n",
       "        vertical-align: top;\n",
       "    }\n",
       "\n",
       "    .dataframe thead th {\n",
       "        text-align: right;\n",
       "    }\n",
       "</style>\n",
       "<table border=\"1\" class=\"dataframe\">\n",
       "  <thead>\n",
       "    <tr style=\"text-align: right;\">\n",
       "      <th></th>\n",
       "      <th>PC</th>\n",
       "      <th>feature</th>\n",
       "      <th>loading</th>\n",
       "      <th>type</th>\n",
       "      <th>percentage</th>\n",
       "      <th>explained_var</th>\n",
       "    </tr>\n",
       "  </thead>\n",
       "  <tbody>\n",
       "    <tr>\n",
       "      <th>0</th>\n",
       "      <td>PC1</td>\n",
       "      <td>totalYards</td>\n",
       "      <td>0.306063</td>\n",
       "      <td>best</td>\n",
       "      <td>0.338793</td>\n",
       "      <td>0.338793</td>\n",
       "    </tr>\n",
       "    <tr>\n",
       "      <th>1</th>\n",
       "      <td>PC2</td>\n",
       "      <td>rushingYards</td>\n",
       "      <td>0.385315</td>\n",
       "      <td>best</td>\n",
       "      <td>0.552128</td>\n",
       "      <td>0.213334</td>\n",
       "    </tr>\n",
       "    <tr>\n",
       "      <th>2</th>\n",
       "      <td>PC3</td>\n",
       "      <td>passingYardsAtCatch</td>\n",
       "      <td>0.531049</td>\n",
       "      <td>best</td>\n",
       "      <td>0.631464</td>\n",
       "      <td>0.079336</td>\n",
       "    </tr>\n",
       "    <tr>\n",
       "      <th>3</th>\n",
       "      <td>PC4</td>\n",
       "      <td>totalOffensivePlays</td>\n",
       "      <td>-0.494666</td>\n",
       "      <td>best</td>\n",
       "      <td>0.685913</td>\n",
       "      <td>0.054449</td>\n",
       "    </tr>\n",
       "    <tr>\n",
       "      <th>4</th>\n",
       "      <td>PC5</td>\n",
       "      <td>passingFumblesLost</td>\n",
       "      <td>0.567058</td>\n",
       "      <td>best</td>\n",
       "      <td>0.739338</td>\n",
       "      <td>0.053425</td>\n",
       "    </tr>\n",
       "    <tr>\n",
       "      <th>5</th>\n",
       "      <td>PC6</td>\n",
       "      <td>rushingFumblesLost</td>\n",
       "      <td>0.488648</td>\n",
       "      <td>best</td>\n",
       "      <td>0.784485</td>\n",
       "      <td>0.045147</td>\n",
       "    </tr>\n",
       "    <tr>\n",
       "      <th>6</th>\n",
       "      <td>PC7</td>\n",
       "      <td>totalPenalties</td>\n",
       "      <td>0.679243</td>\n",
       "      <td>best</td>\n",
       "      <td>0.823236</td>\n",
       "      <td>0.038751</td>\n",
       "    </tr>\n",
       "    <tr>\n",
       "      <th>7</th>\n",
       "      <td>PC8</td>\n",
       "      <td>totalTwoPointConvs</td>\n",
       "      <td>0.762935</td>\n",
       "      <td>best</td>\n",
       "      <td>0.857065</td>\n",
       "      <td>0.033829</td>\n",
       "    </tr>\n",
       "    <tr>\n",
       "      <th>8</th>\n",
       "      <td>PC9</td>\n",
       "      <td>totalTackles</td>\n",
       "      <td>-0.630542</td>\n",
       "      <td>best</td>\n",
       "      <td>0.885902</td>\n",
       "      <td>0.028837</td>\n",
       "    </tr>\n",
       "    <tr>\n",
       "      <th>9</th>\n",
       "      <td>PC10</td>\n",
       "      <td>totalTackles</td>\n",
       "      <td>-0.480449</td>\n",
       "      <td>best</td>\n",
       "      <td>0.909975</td>\n",
       "      <td>0.024073</td>\n",
       "    </tr>\n",
       "    <tr>\n",
       "      <th>10</th>\n",
       "      <td>PC11</td>\n",
       "      <td>totalKickingPoints</td>\n",
       "      <td>0.709967</td>\n",
       "      <td>best</td>\n",
       "      <td>0.932657</td>\n",
       "      <td>0.022683</td>\n",
       "    </tr>\n",
       "    <tr>\n",
       "      <th>11</th>\n",
       "      <td>PC12</td>\n",
       "      <td>rushingBigPlays</td>\n",
       "      <td>0.681297</td>\n",
       "      <td>best</td>\n",
       "      <td>0.949816</td>\n",
       "      <td>0.017159</td>\n",
       "    </tr>\n",
       "    <tr>\n",
       "      <th>12</th>\n",
       "      <td>PC13</td>\n",
       "      <td>passingBigPlays</td>\n",
       "      <td>0.601919</td>\n",
       "      <td>best</td>\n",
       "      <td>0.965002</td>\n",
       "      <td>0.015186</td>\n",
       "    </tr>\n",
       "  </tbody>\n",
       "</table>\n",
       "</div>"
      ],
      "text/plain": [
       "      PC              feature   loading  type  percentage  explained_var\n",
       "0    PC1           totalYards  0.306063  best    0.338793       0.338793\n",
       "1    PC2         rushingYards  0.385315  best    0.552128       0.213334\n",
       "2    PC3  passingYardsAtCatch  0.531049  best    0.631464       0.079336\n",
       "3    PC4  totalOffensivePlays -0.494666  best    0.685913       0.054449\n",
       "4    PC5   passingFumblesLost  0.567058  best    0.739338       0.053425\n",
       "5    PC6   rushingFumblesLost  0.488648  best    0.784485       0.045147\n",
       "6    PC7       totalPenalties  0.679243  best    0.823236       0.038751\n",
       "7    PC8   totalTwoPointConvs  0.762935  best    0.857065       0.033829\n",
       "8    PC9         totalTackles -0.630542  best    0.885902       0.028837\n",
       "9   PC10         totalTackles -0.480449  best    0.909975       0.024073\n",
       "10  PC11   totalKickingPoints  0.709967  best    0.932657       0.022683\n",
       "11  PC12      rushingBigPlays  0.681297  best    0.949816       0.017159\n",
       "12  PC13      passingBigPlays  0.601919  best    0.965002       0.015186"
      ]
     },
     "execution_count": 39,
     "metadata": {},
     "output_type": "execute_result"
    }
   ],
   "source": [
    "# get columns \n",
    "pca_result_cols = list(results['topfeat'].iloc[0:13]['feature'].unique())\n",
    "\n",
    "# get top n principals\n",
    "explained_var = results['explained_var'][0:13]\n",
    "\n",
    "# calculate contribution\n",
    "xdiff = [explained_var[n]-explained_var[n-1] for n in range(1,len(explained_var))]\n",
    "explained_contri = []\n",
    "explained_contri.append(explained_var[0])\n",
    "explained_contri = explained_contri + xdiff\n",
    "\n",
    "# create summary df\n",
    "results_df = results['topfeat'].iloc[0:13]\n",
    "summary_df = results_df.copy()\n",
    "summary_df.loc[:,'percentage'] = explained_var\n",
    "summary_df.loc[:,'explained_var'] = explained_contri\n",
    "summary_df"
   ]
  },
  {
   "cell_type": "markdown",
   "id": "b70f2416",
   "metadata": {},
   "source": [
    "The first 2 principals (totalYards amd rushingYards) accounts for approximately %55 of the variance. This leaves roughly %40 of the variance for the remaining 11 features."
   ]
  },
  {
   "cell_type": "markdown",
   "id": "37fc8d34",
   "metadata": {},
   "source": [
    "### Reduce dataframes"
   ]
  },
  {
   "cell_type": "code",
   "execution_count": 40,
   "id": "4e17e29d",
   "metadata": {
    "ExecuteTime": {
     "end_time": "2021-10-10T22:38:33.234670Z",
     "start_time": "2021-10-10T22:38:33.229982Z"
    }
   },
   "outputs": [
    {
     "name": "stdout",
     "output_type": "stream",
     "text": [
      "(670, 12)\n",
      "(670, 14)\n"
     ]
    }
   ],
   "source": [
    "pca_cols = list(summary_df['feature'].unique())\n",
    "\n",
    "# reduce scaled df\n",
    "data_scaled_pca = data_scaled[pca_cols].copy()\n",
    "\n",
    "# reduce original df\n",
    "wanted_features = pca_cols.copy()\n",
    "wanted_features.append('team')\n",
    "wanted_features.append('superbowl_win')\n",
    "\n",
    "stats_pca = stats_updated[wanted_features].copy()\n",
    "\n",
    "print(data_scaled_pca.shape)\n",
    "print(stats_pca.shape)"
   ]
  },
  {
   "cell_type": "markdown",
   "id": "56b53999",
   "metadata": {},
   "source": [
    "## EDA section"
   ]
  },
  {
   "cell_type": "code",
   "execution_count": 41,
   "id": "77ef5758",
   "metadata": {
    "ExecuteTime": {
     "end_time": "2021-10-10T22:38:35.558014Z",
     "start_time": "2021-10-10T22:38:35.532129Z"
    }
   },
   "outputs": [
    {
     "data": {
      "text/html": [
       "<div>\n",
       "<style scoped>\n",
       "    .dataframe tbody tr th:only-of-type {\n",
       "        vertical-align: middle;\n",
       "    }\n",
       "\n",
       "    .dataframe tbody tr th {\n",
       "        vertical-align: top;\n",
       "    }\n",
       "\n",
       "    .dataframe thead th {\n",
       "        text-align: right;\n",
       "    }\n",
       "</style>\n",
       "<table border=\"1\" class=\"dataframe\">\n",
       "  <thead>\n",
       "    <tr style=\"text-align: right;\">\n",
       "      <th></th>\n",
       "      <th>totalYards</th>\n",
       "      <th>rushingYards</th>\n",
       "      <th>passingYardsAtCatch</th>\n",
       "      <th>totalOffensivePlays</th>\n",
       "      <th>passingFumblesLost</th>\n",
       "      <th>rushingFumblesLost</th>\n",
       "      <th>totalPenalties</th>\n",
       "      <th>totalTwoPointConvs</th>\n",
       "      <th>totalTackles</th>\n",
       "      <th>totalKickingPoints</th>\n",
       "      <th>rushingBigPlays</th>\n",
       "      <th>passingBigPlays</th>\n",
       "      <th>superbowl_win</th>\n",
       "    </tr>\n",
       "  </thead>\n",
       "  <tbody>\n",
       "    <tr>\n",
       "      <th>count</th>\n",
       "      <td>670.000000</td>\n",
       "      <td>670.000000</td>\n",
       "      <td>670.000000</td>\n",
       "      <td>670.000000</td>\n",
       "      <td>670.000000</td>\n",
       "      <td>670.000000</td>\n",
       "      <td>670.000000</td>\n",
       "      <td>670.000000</td>\n",
       "      <td>670.000000</td>\n",
       "      <td>670.000000</td>\n",
       "      <td>670.000000</td>\n",
       "      <td>670.000000</td>\n",
       "      <td>670.000000</td>\n",
       "    </tr>\n",
       "    <tr>\n",
       "      <th>mean</th>\n",
       "      <td>5617.222388</td>\n",
       "      <td>1823.865672</td>\n",
       "      <td>2555.834328</td>\n",
       "      <td>1012.907463</td>\n",
       "      <td>2.959701</td>\n",
       "      <td>3.588060</td>\n",
       "      <td>101.777612</td>\n",
       "      <td>1.150746</td>\n",
       "      <td>1041.820896</td>\n",
       "      <td>111.123881</td>\n",
       "      <td>10.589552</td>\n",
       "      <td>47.102985</td>\n",
       "      <td>0.031343</td>\n",
       "    </tr>\n",
       "    <tr>\n",
       "      <th>std</th>\n",
       "      <td>607.029051</td>\n",
       "      <td>337.218948</td>\n",
       "      <td>759.800555</td>\n",
       "      <td>46.956684</td>\n",
       "      <td>1.963764</td>\n",
       "      <td>2.040071</td>\n",
       "      <td>16.471557</td>\n",
       "      <td>1.270438</td>\n",
       "      <td>99.956796</td>\n",
       "      <td>19.329907</td>\n",
       "      <td>4.614290</td>\n",
       "      <td>10.784331</td>\n",
       "      <td>0.174374</td>\n",
       "    </tr>\n",
       "    <tr>\n",
       "      <th>min</th>\n",
       "      <td>3813.000000</td>\n",
       "      <td>1062.000000</td>\n",
       "      <td>1267.000000</td>\n",
       "      <td>859.000000</td>\n",
       "      <td>0.000000</td>\n",
       "      <td>0.000000</td>\n",
       "      <td>55.000000</td>\n",
       "      <td>0.000000</td>\n",
       "      <td>620.000000</td>\n",
       "      <td>57.000000</td>\n",
       "      <td>0.000000</td>\n",
       "      <td>21.000000</td>\n",
       "      <td>0.000000</td>\n",
       "    </tr>\n",
       "    <tr>\n",
       "      <th>25%</th>\n",
       "      <td>5223.250000</td>\n",
       "      <td>1596.250000</td>\n",
       "      <td>2008.750000</td>\n",
       "      <td>982.250000</td>\n",
       "      <td>2.000000</td>\n",
       "      <td>2.000000</td>\n",
       "      <td>91.000000</td>\n",
       "      <td>0.000000</td>\n",
       "      <td>1003.250000</td>\n",
       "      <td>99.000000</td>\n",
       "      <td>7.000000</td>\n",
       "      <td>39.250000</td>\n",
       "      <td>0.000000</td>\n",
       "    </tr>\n",
       "    <tr>\n",
       "      <th>50%</th>\n",
       "      <td>5616.500000</td>\n",
       "      <td>1788.000000</td>\n",
       "      <td>2342.500000</td>\n",
       "      <td>1015.000000</td>\n",
       "      <td>3.000000</td>\n",
       "      <td>3.000000</td>\n",
       "      <td>102.000000</td>\n",
       "      <td>1.000000</td>\n",
       "      <td>1048.000000</td>\n",
       "      <td>110.000000</td>\n",
       "      <td>10.000000</td>\n",
       "      <td>46.000000</td>\n",
       "      <td>0.000000</td>\n",
       "    </tr>\n",
       "    <tr>\n",
       "      <th>75%</th>\n",
       "      <td>6041.000000</td>\n",
       "      <td>2018.750000</td>\n",
       "      <td>3003.250000</td>\n",
       "      <td>1042.000000</td>\n",
       "      <td>4.000000</td>\n",
       "      <td>5.000000</td>\n",
       "      <td>112.000000</td>\n",
       "      <td>2.000000</td>\n",
       "      <td>1102.000000</td>\n",
       "      <td>125.000000</td>\n",
       "      <td>13.000000</td>\n",
       "      <td>54.000000</td>\n",
       "      <td>0.000000</td>\n",
       "    </tr>\n",
       "    <tr>\n",
       "      <th>max</th>\n",
       "      <td>7632.000000</td>\n",
       "      <td>3296.000000</td>\n",
       "      <td>5492.000000</td>\n",
       "      <td>1191.000000</td>\n",
       "      <td>10.000000</td>\n",
       "      <td>12.000000</td>\n",
       "      <td>163.000000</td>\n",
       "      <td>8.000000</td>\n",
       "      <td>1337.000000</td>\n",
       "      <td>168.000000</td>\n",
       "      <td>33.000000</td>\n",
       "      <td>82.000000</td>\n",
       "      <td>1.000000</td>\n",
       "    </tr>\n",
       "  </tbody>\n",
       "</table>\n",
       "</div>"
      ],
      "text/plain": [
       "        totalYards  rushingYards  passingYardsAtCatch  totalOffensivePlays  \\\n",
       "count   670.000000    670.000000           670.000000           670.000000   \n",
       "mean   5617.222388   1823.865672          2555.834328          1012.907463   \n",
       "std     607.029051    337.218948           759.800555            46.956684   \n",
       "min    3813.000000   1062.000000          1267.000000           859.000000   \n",
       "25%    5223.250000   1596.250000          2008.750000           982.250000   \n",
       "50%    5616.500000   1788.000000          2342.500000          1015.000000   \n",
       "75%    6041.000000   2018.750000          3003.250000          1042.000000   \n",
       "max    7632.000000   3296.000000          5492.000000          1191.000000   \n",
       "\n",
       "       passingFumblesLost  rushingFumblesLost  totalPenalties  \\\n",
       "count          670.000000          670.000000      670.000000   \n",
       "mean             2.959701            3.588060      101.777612   \n",
       "std              1.963764            2.040071       16.471557   \n",
       "min              0.000000            0.000000       55.000000   \n",
       "25%              2.000000            2.000000       91.000000   \n",
       "50%              3.000000            3.000000      102.000000   \n",
       "75%              4.000000            5.000000      112.000000   \n",
       "max             10.000000           12.000000      163.000000   \n",
       "\n",
       "       totalTwoPointConvs  totalTackles  totalKickingPoints  rushingBigPlays  \\\n",
       "count          670.000000    670.000000          670.000000       670.000000   \n",
       "mean             1.150746   1041.820896          111.123881        10.589552   \n",
       "std              1.270438     99.956796           19.329907         4.614290   \n",
       "min              0.000000    620.000000           57.000000         0.000000   \n",
       "25%              0.000000   1003.250000           99.000000         7.000000   \n",
       "50%              1.000000   1048.000000          110.000000        10.000000   \n",
       "75%              2.000000   1102.000000          125.000000        13.000000   \n",
       "max              8.000000   1337.000000          168.000000        33.000000   \n",
       "\n",
       "       passingBigPlays  superbowl_win  \n",
       "count       670.000000     670.000000  \n",
       "mean         47.102985       0.031343  \n",
       "std          10.784331       0.174374  \n",
       "min          21.000000       0.000000  \n",
       "25%          39.250000       0.000000  \n",
       "50%          46.000000       0.000000  \n",
       "75%          54.000000       0.000000  \n",
       "max          82.000000       1.000000  "
      ]
     },
     "execution_count": 41,
     "metadata": {},
     "output_type": "execute_result"
    }
   ],
   "source": [
    "stats_pca.describe()"
   ]
  },
  {
   "cell_type": "markdown",
   "id": "36f516fa",
   "metadata": {},
   "source": [
    "### Profile"
   ]
  },
  {
   "cell_type": "code",
   "execution_count": null,
   "id": "32ee2008",
   "metadata": {
    "ExecuteTime": {
     "end_time": "2021-10-09T02:18:22.724001Z",
     "start_time": "2021-10-09T02:17:54.720343Z"
    }
   },
   "outputs": [],
   "source": [
    "# run to view EDA report \n",
    "profile = ProfileReport(stats_pca)\n",
    "profile.to_file(\"project_analysis.html\")\n",
    "profile"
   ]
  },
  {
   "cell_type": "markdown",
   "id": "c680fb6b",
   "metadata": {},
   "source": [
    "## Prediction time"
   ]
  },
  {
   "cell_type": "code",
   "execution_count": 42,
   "id": "9e2defdf",
   "metadata": {
    "ExecuteTime": {
     "end_time": "2021-10-10T22:39:04.558247Z",
     "start_time": "2021-10-10T22:39:04.554407Z"
    }
   },
   "outputs": [
    {
     "data": {
      "text/plain": [
       "Counter({0.0: 649, 1.0: 21})"
      ]
     },
     "execution_count": 42,
     "metadata": {},
     "output_type": "execute_result"
    }
   ],
   "source": [
    "X = data_scaled_pca.values\n",
    "y = stats_updated.loc[:,'superbowl_win'].values\n",
    "org_classes = Counter(y)\n",
    "org_classes"
   ]
  },
  {
   "cell_type": "markdown",
   "id": "30ddf9e5",
   "metadata": {},
   "source": [
    "There's a clear imbalnce of classes. We will first need to take care of this before training a model. "
   ]
  },
  {
   "cell_type": "code",
   "execution_count": 43,
   "id": "3e7cfd9a",
   "metadata": {
    "ExecuteTime": {
     "end_time": "2021-10-10T22:39:06.963997Z",
     "start_time": "2021-10-10T22:39:06.808977Z"
    }
   },
   "outputs": [
    {
     "data": {
      "image/png": "[encoded data removed]",
      "text/plain": [
       "<Figure size 640x640 with 1 Axes>"
      ]
     },
     "metadata": {
      "needs_background": "light"
     },
     "output_type": "display_data"
    }
   ],
   "source": [
    "get_class_scatter(org_classes, 'Original Data')"
   ]
  },
  {
   "cell_type": "markdown",
   "id": "9bf3edad",
   "metadata": {},
   "source": [
    "### Random over and under sampling\n",
    "We are going to use Random over and under sampling to augment the data.  Random oversampling works by picking samples at random with replacement of the minority class. RandomUnderSampler is a fast and easy way to balance the data by randomly selecting a subset of data for the majority class."
   ]
  },
  {
   "cell_type": "code",
   "execution_count": 44,
   "id": "5649cba9",
   "metadata": {
    "ExecuteTime": {
     "end_time": "2021-10-10T22:39:10.836521Z",
     "start_time": "2021-10-10T22:39:10.831330Z"
    }
   },
   "outputs": [
    {
     "data": {
      "text/plain": [
       "Counter({0.0: 649, 1.0: 129})"
      ]
     },
     "execution_count": 44,
     "metadata": {},
     "output_type": "execute_result"
    }
   ],
   "source": [
    "# fit and apply the transform\n",
    "over = RandomOverSampler(sampling_strategy=0.20, random_state=42)\n",
    "X, y = over.fit_resample(X, y)\n",
    "over_samp_classes = Counter(y)\n",
    "over_samp_classes"
   ]
  },
  {
   "cell_type": "code",
   "execution_count": 45,
   "id": "56b57c9b",
   "metadata": {
    "ExecuteTime": {
     "end_time": "2021-10-10T22:39:12.922642Z",
     "start_time": "2021-10-10T22:39:12.917895Z"
    }
   },
   "outputs": [
    {
     "data": {
      "text/plain": [
       "Counter({0.0: 258, 1.0: 129})"
      ]
     },
     "execution_count": 45,
     "metadata": {},
     "output_type": "execute_result"
    }
   ],
   "source": [
    "under = RandomUnderSampler(sampling_strategy=0.5, random_state=42)\n",
    "# fit and apply the transform\n",
    "X, y = under.fit_resample(X, y)\n",
    "under_samp_classes = Counter(y)\n",
    "under_samp_classes"
   ]
  },
  {
   "cell_type": "markdown",
   "id": "c1846fca",
   "metadata": {},
   "source": [
    "Using over and under sampling techniques, we increased our minority class 514% and reduced our majority class 60%. This should help make better models. "
   ]
  },
  {
   "cell_type": "code",
   "execution_count": 46,
   "id": "e880d795",
   "metadata": {
    "ExecuteTime": {
     "end_time": "2021-10-10T22:39:14.686561Z",
     "start_time": "2021-10-10T22:39:14.524653Z"
    }
   },
   "outputs": [
    {
     "data": {
      "image/png": "[encoded data removed]",
      "text/plain": [
       "<Figure size 640x640 with 1 Axes>"
      ]
     },
     "metadata": {
      "needs_background": "light"
     },
     "output_type": "display_data"
    }
   ],
   "source": [
    "get_class_scatter(under_samp_classes, 'Over and Under Sampling')"
   ]
  },
  {
   "cell_type": "markdown",
   "id": "a04adb9e",
   "metadata": {},
   "source": [
    "### train, test, split"
   ]
  },
  {
   "cell_type": "code",
   "execution_count": 47,
   "id": "123f29de",
   "metadata": {
    "ExecuteTime": {
     "end_time": "2021-10-10T22:39:17.396552Z",
     "start_time": "2021-10-10T22:39:17.393695Z"
    }
   },
   "outputs": [],
   "source": [
    "X_train, X_test, y_train, y_test = train_test_split(X, y,test_size = 0.20, random_state=42)"
   ]
  },
  {
   "cell_type": "markdown",
   "id": "0f7f77b7",
   "metadata": {},
   "source": [
    "### Logistic Regression"
   ]
  },
  {
   "cell_type": "code",
   "execution_count": 48,
   "id": "b9bc5bd1",
   "metadata": {
    "ExecuteTime": {
     "end_time": "2021-10-10T22:39:19.363354Z",
     "start_time": "2021-10-10T22:39:19.033640Z"
    }
   },
   "outputs": [
    {
     "name": "stdout",
     "output_type": "stream",
     "text": [
      "tuned hpyerparameters :(best parameters)  {'C': 0.5, 'class_weight': None, 'penalty': 'l1'}\n",
      "accuracy : 0.7637634408602151\n"
     ]
    }
   ],
   "source": [
    "# first let's see what the optimal hyper params are\n",
    "\n",
    "tuned_parameters = {'C': [0.1, 0.5, 1, 5, 10, 50, 100], 'penalty':['l1','l2'], 'class_weight':[None, 'balanced']}\n",
    "clf = GridSearchCV(LogisticRegression(solver='liblinear'), tuned_parameters, cv=10, scoring=\"accuracy\")\n",
    "clf.fit(X_train, y_train)\n",
    "\n",
    "print(\"tuned hpyerparameters :(best parameters) \",clf.best_params_)\n",
    "print(\"accuracy :\",clf.best_score_)"
   ]
  },
  {
   "cell_type": "code",
   "execution_count": 51,
   "id": "2c683396",
   "metadata": {
    "ExecuteTime": {
     "end_time": "2021-10-10T22:39:43.865923Z",
     "start_time": "2021-10-10T22:39:43.818544Z"
    }
   },
   "outputs": [
    {
     "name": "stdout",
     "output_type": "stream",
     "text": [
      "Accuracy: 0.754 (0.074)\n"
     ]
    }
   ],
   "source": [
    "# now we'll create the model\n",
    "logreg = LogisticRegression(class_weight='balanced',C=0.5, solver='liblinear', random_state=42)\n",
    "\n",
    "# evaluate the model\n",
    "cv = RepeatedStratifiedKFold(n_splits=10, n_repeats=3, random_state=42)\n",
    "logreg.fit(X_train, y_train)\n",
    "n_scores = cross_val_score(logreg, X_train, y_train, scoring='accuracy', cv=cv, n_jobs=-1, error_score='raise')\n",
    "\n",
    "# report performance\n",
    "print('Accuracy: %.3f (%.3f)' % (np.mean(n_scores), np.std(n_scores)))"
   ]
  },
  {
   "cell_type": "code",
   "execution_count": 52,
   "id": "a6fc6754",
   "metadata": {
    "ExecuteTime": {
     "end_time": "2021-10-10T22:39:58.127302Z",
     "start_time": "2021-10-10T22:39:58.119789Z"
    }
   },
   "outputs": [
    {
     "name": "stdout",
     "output_type": "stream",
     "text": [
      "              precision    recall  f1-score   support\n",
      "\n",
      "         0.0       0.91      0.74      0.81        53\n",
      "         1.0       0.60      0.84      0.70        25\n",
      "\n",
      "    accuracy                           0.77        78\n",
      "   macro avg       0.75      0.79      0.76        78\n",
      "weighted avg       0.81      0.77      0.78        78\n",
      "\n"
     ]
    }
   ],
   "source": [
    "y_pred = logreg.predict(X_test)\n",
    "print(classification_report(y_test, y_pred))"
   ]
  },
  {
   "cell_type": "code",
   "execution_count": 53,
   "id": "7e6b6f1f",
   "metadata": {
    "ExecuteTime": {
     "end_time": "2021-10-10T22:40:04.591197Z",
     "start_time": "2021-10-10T22:40:04.360002Z"
    }
   },
   "outputs": [
    {
     "data": {
      "image/png": "[encoded data removed]",
      "text/plain": [
       "<Figure size 432x288 with 2 Axes>"
      ]
     },
     "metadata": {
      "needs_background": "light"
     },
     "output_type": "display_data"
    }
   ],
   "source": [
    "get_confusion_matrix(logreg, y_test)"
   ]
  },
  {
   "cell_type": "code",
   "execution_count": 54,
   "id": "b788f130",
   "metadata": {
    "ExecuteTime": {
     "end_time": "2021-10-10T22:40:13.310981Z",
     "start_time": "2021-10-10T22:40:13.148295Z"
    }
   },
   "outputs": [
    {
     "name": "stdout",
     "output_type": "stream",
     "text": [
      "0.7879245283018869\n"
     ]
    },
    {
     "data": {
      "image/png": "[encoded data removed]",
      "text/plain": [
       "<Figure size 432x288 with 1 Axes>"
      ]
     },
     "metadata": {
      "needs_background": "light"
     },
     "output_type": "display_data"
    }
   ],
   "source": [
    "get_roc_graph(logreg, X_test, y_test, 'LogReg')"
   ]
  },
  {
   "cell_type": "code",
   "execution_count": 57,
   "id": "56cac22d",
   "metadata": {
    "ExecuteTime": {
     "end_time": "2021-10-09T19:31:51.432849Z",
     "start_time": "2021-10-09T19:31:51.430132Z"
    }
   },
   "outputs": [
    {
     "name": "stdout",
     "output_type": "stream",
     "text": [
      "logreg model saved\n"
     ]
    }
   ],
   "source": [
    "# save_model(logreg, 'logreg')"
   ]
  },
  {
   "cell_type": "markdown",
   "id": "73b1a668",
   "metadata": {},
   "source": [
    "The LogReg roc graph still indicates an inbalanced dataset."
   ]
  },
  {
   "cell_type": "markdown",
   "id": "660dd14a",
   "metadata": {},
   "source": [
    "### RandomeForest"
   ]
  },
  {
   "cell_type": "code",
   "execution_count": 55,
   "id": "f8b6f8e4",
   "metadata": {
    "ExecuteTime": {
     "end_time": "2021-10-10T22:40:19.298964Z",
     "start_time": "2021-10-10T22:40:17.597647Z"
    }
   },
   "outputs": [
    {
     "name": "stdout",
     "output_type": "stream",
     "text": [
      "Accuracy: 0.982 (0.026)\n"
     ]
    }
   ],
   "source": [
    "# define the model\n",
    "rf_model = RandomForestClassifier()\n",
    "rf_model.fit(X_train, y_train)\n",
    "\n",
    "# evaluate the model\n",
    "cv = RepeatedStratifiedKFold(n_splits=10, n_repeats=3, random_state=1)\n",
    "n_scores = cross_val_score(rf_model, X_train, y_train, scoring='accuracy', cv=cv, n_jobs=-1, error_score='raise')\n",
    "\n",
    "# report performance\n",
    "print('Accuracy: %.3f (%.3f)' % (np.mean(n_scores), np.std(n_scores)))"
   ]
  },
  {
   "cell_type": "code",
   "execution_count": 56,
   "id": "61e00912",
   "metadata": {
    "ExecuteTime": {
     "end_time": "2021-10-10T22:40:20.672210Z",
     "start_time": "2021-10-10T22:40:20.656696Z"
    }
   },
   "outputs": [
    {
     "name": "stdout",
     "output_type": "stream",
     "text": [
      "              precision    recall  f1-score   support\n",
      "\n",
      "         0.0       1.00      1.00      1.00        53\n",
      "         1.0       1.00      1.00      1.00        25\n",
      "\n",
      "    accuracy                           1.00        78\n",
      "   macro avg       1.00      1.00      1.00        78\n",
      "weighted avg       1.00      1.00      1.00        78\n",
      "\n"
     ]
    }
   ],
   "source": [
    "y_pred = rf_model.predict(X_test)\n",
    "print(classification_report(y_test, y_pred))"
   ]
  },
  {
   "cell_type": "code",
   "execution_count": 57,
   "id": "cb38ba34",
   "metadata": {
    "ExecuteTime": {
     "end_time": "2021-10-10T22:40:45.898812Z",
     "start_time": "2021-10-10T22:40:45.792527Z"
    }
   },
   "outputs": [
    {
     "data": {
      "image/png": "[encoded data removed]",
      "text/plain": [
       "<Figure size 432x288 with 2 Axes>"
      ]
     },
     "metadata": {
      "needs_background": "light"
     },
     "output_type": "display_data"
    }
   ],
   "source": [
    "get_confusion_matrix(rf_model, y_test)"
   ]
  },
  {
   "cell_type": "code",
   "execution_count": 58,
   "id": "4abc2272",
   "metadata": {
    "ExecuteTime": {
     "end_time": "2021-10-10T22:40:47.863941Z",
     "start_time": "2021-10-10T22:40:47.694444Z"
    }
   },
   "outputs": [
    {
     "name": "stdout",
     "output_type": "stream",
     "text": [
      "1.0\n"
     ]
    },
    {
     "data": {
      "image/png": "[encoded data removed]",
      "text/plain": [
       "<Figure size 432x288 with 1 Axes>"
      ]
     },
     "metadata": {
      "needs_background": "light"
     },
     "output_type": "display_data"
    }
   ],
   "source": [
    "get_roc_graph(rf_model, X_test, y_test, 'RF')"
   ]
  },
  {
   "cell_type": "code",
   "execution_count": 59,
   "id": "7309af62",
   "metadata": {
    "ExecuteTime": {
     "end_time": "2021-10-09T19:32:54.026405Z",
     "start_time": "2021-10-09T19:32:54.019280Z"
    }
   },
   "outputs": [
    {
     "name": "stdout",
     "output_type": "stream",
     "text": [
      "rf model saved\n"
     ]
    }
   ],
   "source": [
    "# save_model(rf_model, 'rf')"
   ]
  },
  {
   "cell_type": "markdown",
   "id": "7cb39d5c",
   "metadata": {},
   "source": [
    "The RandomForest classifier has a near perfect performance. This is troublesome and probably too good to be true. Possibly an indication of overfitting the training data. "
   ]
  },
  {
   "cell_type": "markdown",
   "id": "21e7fb34",
   "metadata": {},
   "source": [
    "## Test predictions"
   ]
  },
  {
   "cell_type": "code",
   "execution_count": 63,
   "id": "d360cd9f",
   "metadata": {
    "ExecuteTime": {
     "end_time": "2021-10-10T22:41:27.201431Z",
     "start_time": "2021-10-10T22:41:27.197385Z"
    }
   },
   "outputs": [],
   "source": [
    "def get_predictions(model, data, colnms):\n",
    "    \n",
    "    data = data.copy()\n",
    "    \n",
    "    years = data['year'].values\n",
    "    teams = data['team'].values\n",
    "    \n",
    "    data_scaled = pd.DataFrame(preprocessing.scale(data[colnms].iloc[:, 0:12]),columns = colnms).copy()\n",
    "    data_scaled.loc[:,'team'] = data['team'].values\n",
    "    data_scaled.loc[:,'year'] = years\n",
    "    data_scaled = data_scaled.fillna(0)\n",
    "    \n",
    "    data_scaled.loc[:,'prediction'] = model.predict_proba(data_scaled.iloc[:,0:12].values)[:, 1]\n",
    "    data_year = data_scaled[['team','year','prediction']]\n",
    "    \n",
    "    display(data_year.sort_values(by=['prediction'], ascending=False))"
   ]
  },
  {
   "cell_type": "code",
   "execution_count": 64,
   "id": "a0a1e055",
   "metadata": {
    "ExecuteTime": {
     "end_time": "2021-10-10T22:41:27.918334Z",
     "start_time": "2021-10-10T22:41:27.907229Z"
    }
   },
   "outputs": [],
   "source": [
    "ALL = 'ALL'\n",
    "def unique_sorted_values_plus_ALL(array):\n",
    "    unique = array.unique().tolist()\n",
    "    unique.sort()\n",
    "    unique.insert(0, ALL)\n",
    "    return unique\n",
    "\n",
    "dropdown_state = widgets.Dropdown(options = unique_sorted_values_plus_ALL(testing_df[\"year\"]), description='Year: ')\n",
    "\n",
    "output_predict = widgets.Output()\n",
    "\n",
    "def event_action():\n",
    "    # clear the previous selection on each iteration\n",
    "    output_predict.clear_output()\n",
    "    \n",
    "    if (dropdown_state.value == ALL):\n",
    "        common_filter = testing_df\n",
    "        common_filter = common_filter[pca_cols].copy()\n",
    "    \n",
    "    else:\n",
    "        common_filter = testing_df.loc[testing_df['year']==dropdown_state.value]\n",
    "        \n",
    "        with output_predict:\n",
    "            get_predictions(logreg, common_filter, pca_cols)\n",
    "\n",
    "\n",
    "def dropdown_state_eventhandler(change):\n",
    "    event_action()\n",
    "    \n",
    "\n",
    "dropdown_state.observe(dropdown_state_eventhandler, names='value')"
   ]
  },
  {
   "cell_type": "code",
   "execution_count": 65,
   "id": "6ee2d28f",
   "metadata": {
    "ExecuteTime": {
     "end_time": "2021-10-10T22:41:29.561453Z",
     "start_time": "2021-10-10T22:41:29.548134Z"
    }
   },
   "outputs": [
    {
     "data": {
      "application/vnd.jupyter.widget-view+json": {
       "model_id": "b287c5102f0d459c958a0fa7d08882ef",
       "version_major": 2,
       "version_minor": 0
      },
      "text/plain": [
       "HBox(children=(Dropdown(description='Year: ', options=('ALL', '1996', '1997', '1998', '1999', '2021'), value='…"
      ]
     },
     "metadata": {},
     "output_type": "display_data"
    },
    {
     "data": {
      "application/vnd.jupyter.widget-view+json": {
       "model_id": "02bd8c037aa44bb49a47f8241b3316e9",
       "version_major": 2,
       "version_minor": 0
      },
      "text/plain": [
       "VBox(children=(Tab(children=(Output(),), _titles={'0': 'Prediction'}),), layout=Layout(height='400px'))"
      ]
     },
     "metadata": {},
     "output_type": "display_data"
    }
   ],
   "source": [
    "input_widgets = widgets.HBox([dropdown_state])\n",
    "\n",
    "tab = widgets.Tab([output_predict])\n",
    "tab.set_title(0, 'Prediction')\n",
    "\n",
    "dashboard = widgets.VBox([tab], layout=Layout(height='400px'))\n",
    "display(input_widgets, dashboard)"
   ]
  }
 ],
 "metadata": {
  "kernelspec": {
   "display_name": "Python 3 (ipykernel)",
   "language": "python",
   "name": "python3"
  },
  "language_info": {
   "codemirror_mode": {
    "name": "ipython",
    "version": 3
   },
   "file_extension": ".py",
   "mimetype": "text/x-python",
   "name": "python",
   "nbconvert_exporter": "python",
   "pygments_lexer": "ipython3",
   "version": "3.9.6"
  },
  "toc": {
   "base_numbering": 1,
   "nav_menu": {},
   "number_sections": true,
   "sideBar": true,
   "skip_h1_title": false,
   "title_cell": "Table of Contents",
   "title_sidebar": "Contents",
   "toc_cell": false,
   "toc_position": {},
   "toc_section_display": true,
   "toc_window_display": false
  }
 },
 "nbformat": 4,
 "nbformat_minor": 5
}
